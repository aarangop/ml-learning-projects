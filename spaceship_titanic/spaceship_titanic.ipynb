{
 "cells": [
  {
   "cell_type": "markdown",
   "source": [
    "# Titanic Spacechip - Kaggle Competition\n",
    "\n",
    "Welcome to the year 2912, where your data science skills are needed to solve a cosmic mystery. We've received a transmission from four lightyears away and things aren't looking good.\n",
    "\n",
    "The Spaceship Titanic was an interstellar passenger liner launched a month ago. With almost 13,000 passengers on board, the vessel set out on its maiden voyage transporting emigrants from our solar system to three newly habitable exoplanets orbiting nearby stars.\n",
    "\n",
    "While rounding Alpha Centauri en route to its first destination—the torrid 55 Cancri E—the unwary Spaceship Titanic collided with a spacetime anomaly hidden within a dust cloud. Sadly, it met a similar fate as its namesake from 1000 years before. Though the ship stayed intact, almost half of the passengers were transported to an alternate dimension!\n",
    "\n",
    "To help rescue crews and retrieve the lost passengers, you are challenged to predict which passengers were transported by the anomaly using records recovered from the spaceship’s damaged computer system.\n",
    "\n",
    "## Task\n",
    "\n",
    "In this competition your task is to **predict whether a passenger was transported to an alternate dimension** during the Spaceship Titanic's collision with the spacetime anomaly. To help you make these predictions, you're given a set of personal records recovered from the ship's damaged computer system.\n",
    "\n",
    "\n",
    "# Dataset\n",
    "\n",
    "## train.csv\n",
    "Personal records for about two-thirds (~8700) of the passengers, to be used as training data.\n",
    "\n",
    "- `PassengerId` - A unique Id for each passenger. Each Id takes the form gggg_pp where gggg indicates a group the passenger is travelling with and pp is their number within the group. People in a group are often family members, but not always.\n",
    "\n",
    "- `HomePlanet` - The planet the passenger departed from, typically their planet of permanent residence.\n",
    "\n",
    "- `CryoSleep` - Indicates whether the passenger elected to be put into suspended animation for the duration of the voyage. Passengers in cryosleep are confined to their cabins.\n",
    "\n",
    "- `Cabin` - The cabin number where the passenger is staying. Takes the form deck/num/side, where side can be either P for Port or S for Starboard.\n",
    "\n",
    "- `Destination` - The planet the passenger will be debarking to.\n",
    "\n",
    "- `Age` - The age of the passenger.\n",
    "\n",
    "- `VIP` - Whether the passenger has paid for special VIP service during the voyage.\n",
    "\n",
    "- `RoomService`, `FoodCourt`, `ShoppingMall`, `Spa`, `VRDeck` - Amount the passenger has billed at each of the Spaceship Titanic's many luxury amenities.\n",
    "\n",
    "- `Name` - The first and last names of the passenger.\n",
    "\n",
    "- `Transported` - Whether the passenger was transported to another dimension. This is the target, the column you are trying to predict.\n",
    "\n",
    "### test.csv\n",
    "Personal records for the remaining one-third (~4300) of the passengers, to be used as test data. Your task is to predict the value of Transported for the passengers in this set.\n",
    "\n",
    "## sample_submission.csv\n",
    "A submission file in the correct format.\n",
    "`PassengerId` - Id for each passenger in the test set.\n",
    "\n"
   ],
   "metadata": {
    "collapsed": false
   }
  },
  {
   "cell_type": "markdown",
   "source": [
    "# Initial data exploration"
   ],
   "metadata": {
    "collapsed": false
   }
  },
  {
   "cell_type": "code",
   "execution_count": 1,
   "metadata": {
    "collapsed": true,
    "ExecuteTime": {
     "end_time": "2023-06-23T17:39:30.527516319Z",
     "start_time": "2023-06-23T17:39:30.262577352Z"
    }
   },
   "outputs": [
    {
     "ename": "ModuleNotFoundError",
     "evalue": "No module named 'pandas'",
     "output_type": "error",
     "traceback": [
      "\u001B[0;31m---------------------------------------------------------------------------\u001B[0m",
      "\u001B[0;31mModuleNotFoundError\u001B[0m                       Traceback (most recent call last)",
      "Cell \u001B[0;32mIn[1], line 1\u001B[0m\n\u001B[0;32m----> 1\u001B[0m \u001B[38;5;28;01mfrom\u001B[39;00m \u001B[38;5;21;01mmain\u001B[39;00m \u001B[38;5;28;01mimport\u001B[39;00m load_train_data, load_test_data\n\u001B[1;32m      3\u001B[0m \u001B[38;5;66;03m# Load data\u001B[39;00m\n\u001B[1;32m      4\u001B[0m titanic_train \u001B[38;5;241m=\u001B[39m load_train_data()\n",
      "File \u001B[0;32m~/projects/ml-learning-projects/spaceship_titanic/main.py:1\u001B[0m\n\u001B[0;32m----> 1\u001B[0m \u001B[38;5;28;01mimport\u001B[39;00m \u001B[38;5;21;01mpandas\u001B[39;00m \u001B[38;5;28;01mas\u001B[39;00m \u001B[38;5;21;01mpd\u001B[39;00m\n\u001B[1;32m      4\u001B[0m \u001B[38;5;28;01mdef\u001B[39;00m \u001B[38;5;21mload_test_data\u001B[39m():\n\u001B[1;32m      5\u001B[0m     \u001B[38;5;28;01mreturn\u001B[39;00m load_data(\u001B[38;5;124m\"\u001B[39m\u001B[38;5;124mdatasets/test.csv\u001B[39m\u001B[38;5;124m\"\u001B[39m)\n",
      "\u001B[0;31mModuleNotFoundError\u001B[0m: No module named 'pandas'"
     ]
    }
   ],
   "source": [
    "from main import load_train_data, load_test_data\n",
    "\n",
    "# Load data\n",
    "titanic_train = load_train_data()\n",
    "\n",
    "# Explore the dataset\n",
    "titanic_train.describe()"
   ]
  },
  {
   "cell_type": "markdown",
   "source": [
    "There are some missing values. Imputation will be necessary later on."
   ],
   "metadata": {
    "collapsed": false
   }
  },
  {
   "cell_type": "code",
   "execution_count": null,
   "outputs": [],
   "source": [
    "titanic_train.info()"
   ],
   "metadata": {
    "collapsed": false
   }
  },
  {
   "cell_type": "code",
   "execution_count": null,
   "outputs": [],
   "source": [
    "titanic = titanic_train.copy()\n",
    "titanic[[\"CryoSleep\", \"VIP\", \"Transported\"]] = titanic[[\"CryoSleep\", \"VIP\", \"Transported\"]].convert_dtypes(float)\n",
    "titanic.info()"
   ],
   "metadata": {
    "collapsed": false
   }
  },
  {
   "cell_type": "markdown",
   "source": [
    "First, we note that there are some values which are objects and bools.\n",
    "\n",
    "## HomePlanet & Destination\n",
    "\n",
    "These two features can be one-hot encoded. For HomePlanet we only have three values.\n",
    "\n",
    "## CryoSleep\n",
    "\n",
    "Is a boolean value indicating whether the pax was on CryoSleep\n",
    "\n",
    "## Cabin\n",
    "\n",
    "Cabin is composed of three datum: Deck/Cabin Number/Side. This feature can be split into three, while Deck and Side can also be one-hot encoded.\n",
    "\n",
    "## VIP\n",
    "\n",
    "Boolean feature,\n",
    "\n",
    "## RoomService, FoodCourt, ShoppingMall, Spa, VRDeck\n",
    "\n",
    "Indicate the expenses of each passenger. Maybe a feature with the total expenses could be meaningful, but maybe not. Maybe individual expense categories correlate better to the Transported label.\n",
    "\n",
    "## Name\n",
    "\n",
    "Maybe uninteresting? won't be used initially\n",
    "\n",
    "## Transported\n",
    "\n",
    "Label, indicating whether the pax was transported to another dimension or not."
   ],
   "metadata": {
    "collapsed": false
   }
  },
  {
   "cell_type": "markdown",
   "source": [
    "## HomePlanet & Destination"
   ],
   "metadata": {
    "collapsed": false
   }
  },
  {
   "cell_type": "code",
   "execution_count": null,
   "outputs": [],
   "source": [
    "titanic[\"HomePlanet\"].value_counts()"
   ],
   "metadata": {
    "collapsed": false
   }
  },
  {
   "cell_type": "code",
   "execution_count": null,
   "outputs": [],
   "source": [
    "titanic[\"Destination\"].value_counts()"
   ],
   "metadata": {
    "collapsed": false
   }
  },
  {
   "cell_type": "code",
   "execution_count": null,
   "outputs": [],
   "source": [
    "# Explore the correlation between \"Transported\" and home planet\n",
    "earth_survivors = titanic.loc[titanic[\"HomePlanet\"] == \"Earth\"][\"Transported\"]\n",
    "rate_earth_survivors = sum(earth_survivors) / len(earth_survivors)\n",
    "rate_earth_survivors"
   ],
   "metadata": {
    "collapsed": false
   }
  },
  {
   "cell_type": "code",
   "execution_count": null,
   "outputs": [],
   "source": [
    "# Get the subset of the pax that were transported\n",
    "transported_pax = titanic[titanic[\"Transported\"]]\n",
    "transported_rate = len(transported_pax[\"Transported\"]) / len(titanic)\n",
    "print(f\"The rate of transported pax is: {transported_rate}\")"
   ],
   "metadata": {
    "collapsed": false
   }
  },
  {
   "cell_type": "markdown",
   "source": [
    "About half of the pax were transported!"
   ],
   "metadata": {
    "collapsed": false
   }
  },
  {
   "cell_type": "code",
   "execution_count": null,
   "outputs": [],
   "source": [
    "titanic_home_planet_group = titanic.groupby(\"HomePlanet\")\n",
    "transported_rate = titanic_home_planet_group[\"Transported\"].sum() / len(transported_pax)\n",
    "transported_rate.plot.bar(x=\"HomePlanet\", y=\"Transported\", xlabel=\"Home Planet\", ylabel=\"% Transported\")"
   ],
   "metadata": {
    "collapsed": false
   }
  },
  {
   "cell_type": "markdown",
   "source": [],
   "metadata": {
    "collapsed": false
   }
  },
  {
   "cell_type": "code",
   "execution_count": null,
   "outputs": [],
   "source": [
    "# Explore the rate of transported pax by destination\n",
    "titanic_destination_group = titanic.groupby([\"Destination\"])\n",
    "transported_rate_by_destination = titanic_destination_group[\"Transported\"].sum() / len(transported_pax)\n",
    "transported_rate_by_destination.plot.bar(x=\"Destination\", y=\"Transported\",\n",
    "                                         ylabel=\"% Transported\")"
   ],
   "metadata": {
    "collapsed": false
   }
  },
  {
   "cell_type": "markdown",
   "source": [
    "It seems that the majority (over 60%) of the transported passengers were travelling to TRAPPIST-1e!"
   ],
   "metadata": {
    "collapsed": false
   }
  },
  {
   "cell_type": "code",
   "execution_count": null,
   "outputs": [],
   "source": [
    "# Explore the Transported rate by CryoSleep\n",
    "cryo_sleep_group = titanic.groupby(\"CryoSleep\")\n",
    "transported_rate_by_cryo_sleep = cryo_sleep_group[\"Transported\"].sum() / len(transported_pax)\n",
    "transported_rate_by_cryo_sleep.plot.bar(x=\"CryoSleep\", y=\"Transported\", xlabel=\"Cryo Sleep\", ylabel=\"% Transported\")"
   ],
   "metadata": {
    "collapsed": false
   }
  },
  {
   "cell_type": "markdown",
   "source": [
    "It seems that a majority of transported passengers were in cryogenic sleep."
   ],
   "metadata": {
    "collapsed": false
   }
  },
  {
   "cell_type": "code",
   "execution_count": null,
   "outputs": [],
   "source": [
    "# Explore transported rate by VIP status\n",
    "vip_group = titanic.groupby(\"VIP\")\n",
    "vip_transported_rate = vip_group[\"Transported\"].sum() / len(transported_pax)\n",
    "vip_transported_rate.plot.bar(x=\"VIP\", y=\"Transported\", xlabel=\"VIP Status\", ylabel=\"% Transported\")"
   ],
   "metadata": {
    "collapsed": false
   }
  },
  {
   "cell_type": "code",
   "execution_count": null,
   "outputs": [],
   "source": [
    "transported_vip_pax = titanic[titanic[\"VIP\"]][\"Transported\"]\n",
    "transported_vip_rate = len(transported_vip_pax) / len(transported_pax)\n",
    "print(f\"Of {len(transported_pax)} transported passengers only {len(transported_vip_pax)} were VIP\")\n",
    "print(f\"Among the transported pax only {transported_vip_rate * 100:.2f}% were VIP\")"
   ],
   "metadata": {
    "collapsed": false
   }
  },
  {
   "cell_type": "markdown",
   "source": [
    "## Boolean features\n",
    "\n",
    "The boolean features `HomePlanet`, `Destination`, `CryoSleep`, and `VIP` seem to be good indicators of whether a passenger was transported. Include those in the resulting model.\n"
   ],
   "metadata": {
    "collapsed": false
   }
  },
  {
   "cell_type": "code",
   "execution_count": null,
   "outputs": [],
   "source": [
    "# create a scatter matrix from a few of the potentially relevant numeric features.\n",
    "# Make the Transformed column a numeric one\n",
    "titanic[\"Transported\"] = titanic_train[\"Transported\"].astype(int)\n",
    "\n",
    "# Create a feature for the total expenses\n",
    "titanic[\"TotalExpenses\"] = titanic[\"RoomService\"] + titanic[\"FoodCourt\"] + titanic[\n",
    "    \"ShoppingMall\"] + titanic[\"Spa\"] + titanic[\"VRDeck\"]\n",
    "titanic[\"TotalExpenses\"].hist(bins=20)"
   ],
   "metadata": {
    "collapsed": false
   }
  },
  {
   "cell_type": "code",
   "execution_count": null,
   "outputs": [],
   "source": [
    "import pandas as pd\n",
    "\n",
    "# Create expense categories and see how many of each category were transported.\n",
    "titanic[\"TotalExpenses\"].describe()\n",
    "bins = range(0, int(titanic[\"TotalExpenses\"].max()) + 5000, 5000)\n",
    "titanic[\"ExpenseCat\"] = pd.cut(titanic[\"TotalExpenses\"], bins=bins, labels=range(len(bins) - 1))\n",
    "expense_cat_group = titanic.groupby(\"ExpenseCat\")\n",
    "expense_cat_group[\"Transported\"].sum().plot.bar(x=\"ExpenseCat\", y=\"Transported\", ylabel=\"Passengers transported\")"
   ],
   "metadata": {
    "collapsed": false
   }
  },
  {
   "cell_type": "markdown",
   "source": [
    "The expenses don't seem to have a big effect, since the distribution of transported according to the expense category seems to be very similar as the distribution of expenses among all passengers.\n",
    "\n",
    "The transported passengers seem to be a sample of the whole ship population in regards to expenses."
   ],
   "metadata": {
    "collapsed": false
   }
  },
  {
   "cell_type": "code",
   "execution_count": null,
   "outputs": [],
   "source": [
    "titanic_train[\"Age\"].hist(bins=10)"
   ],
   "metadata": {
    "collapsed": false
   }
  },
  {
   "cell_type": "code",
   "execution_count": null,
   "outputs": [],
   "source": [
    "import matplotlib.pyplot as plt\n",
    "\n",
    "# Plot histogram of number of Transported people according to their Age\n",
    "plt, ax = plt.subplots(2, 1, figsize=(12, 12))\n",
    "ax[0].hist(titanic[\"Age\"], weights=titanic[\"Transported\"])\n",
    "ax[1].hist(titanic[\"TotalExpenses\"], weights=titanic[\"Transported\"])"
   ],
   "metadata": {
    "collapsed": false
   }
  },
  {
   "cell_type": "markdown",
   "source": [
    "Apparently, there seems to be no strong correlation between transported passengers and their age or expenses. The transported passengers seem to have been representative of the whole population in this regard.\n",
    "\n",
    "Inspect other features, such as CryoSleep, VIP, Deck and Side"
   ],
   "metadata": {
    "collapsed": false
   }
  },
  {
   "cell_type": "markdown",
   "source": [
    "## Other features\n",
    "\n",
    "Explore the influence of the feature `Cabin`. The `Cabin` is a string that indicates the deck, cabin number and the side of the ship (P for port and S for starboard).\n",
    "\n",
    "Separate the cabin number into three separate features: `Deck`, `CabinNumber`, and `Side`."
   ],
   "metadata": {
    "collapsed": false
   }
  },
  {
   "cell_type": "code",
   "execution_count": null,
   "outputs": [],
   "source": [
    "cabin_data = titanic[\"Cabin\"].str.split(\"/\", expand=True)\n",
    "titanic[[\"Deck\", \"CabinNumber\", \"Side\"]] = cabin_data\n",
    "titanic.head()"
   ],
   "metadata": {
    "collapsed": false
   }
  },
  {
   "cell_type": "code",
   "execution_count": null,
   "outputs": [],
   "source": [
    "# See how many of each deck were transported.\n",
    "deck_group = titanic.groupby(\"Deck\")\n",
    "deck_group[\"Transported\"].sum().plot.bar(x=\"Deck\", y=\"Transported\", ylabel=\"Passengers transported\")"
   ],
   "metadata": {
    "collapsed": false
   }
  },
  {
   "cell_type": "markdown",
   "source": [
    "We see that there is a distribution of the transported passengers according to the deck. The distribution has two peaks.\n",
    "\n",
    "This seems to be a multimodal distribution. For, now, in order to keep it simple, don't do much more about this."
   ],
   "metadata": {
    "collapsed": false
   }
  },
  {
   "cell_type": "code",
   "execution_count": null,
   "outputs": [],
   "source": [
    "side_group = titanic.groupby(\"Side\")\n",
    "side_group[\"Transported\"].sum().plot.bar(x=\"Side\", y=\"Transported\", ylabel=\"Passengers transported\")"
   ],
   "metadata": {
    "collapsed": false
   }
  },
  {
   "cell_type": "markdown",
   "source": [
    "The side seems to also be a rough indicator for Transported."
   ],
   "metadata": {
    "collapsed": false
   }
  },
  {
   "cell_type": "markdown",
   "source": [
    "# Preparing the data\n",
    "\n",
    "We've established that some features are better indicators than others. Most features have some correlation with `Transported`, but for instance age, doesn't seem to have a big effect."
   ],
   "metadata": {
    "collapsed": false
   }
  },
  {
   "cell_type": "code",
   "execution_count": null,
   "outputs": [],
   "source": [
    "titanic.info()"
   ],
   "metadata": {
    "collapsed": false
   }
  },
  {
   "cell_type": "markdown",
   "source": [],
   "metadata": {
    "collapsed": false
   }
  },
  {
   "cell_type": "code",
   "execution_count": null,
   "outputs": [],
   "source": [
    "\n",
    "from main import split_cabin_feature, calculate_total_expenses, make_expenses_categories\n",
    "from sklearn.compose import ColumnTransformer\n",
    "from sklearn.preprocessing import OneHotEncoder, StandardScaler\n",
    "from sklearn.pipeline import make_pipeline\n",
    "from sklearn.impute import SimpleImputer\n",
    "\n",
    "cat_pipeline = make_pipeline(\n",
    "    SimpleImputer(strategy=\"most_frequent\"),\n",
    "    OneHotEncoder(handle_unknown=\"ignore\")\n",
    ")\n",
    "\n",
    "num_pipeline = make_pipeline(\n",
    "    SimpleImputer(strategy=\"median\"),\n",
    "    StandardScaler()\n",
    ")\n",
    "\n",
    "boolean_pipeline = make_pipeline(\n",
    "    SimpleImputer(strategy=\"most_frequent\")\n",
    ")\n",
    "\n",
    "preprocessing = ColumnTransformer([\n",
    "    (\"cat\", cat_pipeline, [\"HomePlanet\", \"Deck\", \"Side\", \"Destination\"]),\n",
    "    (\"num\", num_pipeline, [\"Age\", \"TotalExpenses\"]),\n",
    "    # (\"expense_cat\", cat_pipeline, [\"ExpenseCat\"]),\n",
    "    (\"boolean\", boolean_pipeline, [\"CryoSleep\", \"VIP\"])\n",
    "])\n",
    "\n",
    "titanic_train = load_train_data()\n",
    "y = titanic_train[\"Transported\"]\n",
    "\n",
    "titanic_train = split_cabin_feature(titanic_train)\n",
    "titanic_train = calculate_total_expenses(titanic_train)\n",
    "\n",
    "expense_cat_bins = range(0, 55000, 5000)\n",
    "expense_cat_labels = range(len(expense_cat_bins) - 1)\n",
    "\n",
    "titanic_train = make_expenses_categories(titanic_train, bins=expense_cat_bins, labels=expense_cat_labels)\n",
    "\n",
    "titanic_train = titanic_train.drop(\"Transported\", axis=1)\n",
    "\n",
    "titanic_prepared = preprocessing.fit_transform(titanic_train)\n",
    "preprocessing.get_feature_names_out()"
   ],
   "metadata": {
    "collapsed": false
   }
  },
  {
   "cell_type": "code",
   "execution_count": null,
   "outputs": [],
   "source": [
    "titanic_prepared.shape"
   ],
   "metadata": {
    "collapsed": false
   }
  },
  {
   "cell_type": "code",
   "execution_count": null,
   "outputs": [],
   "source": [
    "from sklearn.ensemble import RandomForestClassifier\n",
    "\n",
    "model = RandomForestClassifier(n_estimators=100, max_depth=5, random_state=42)\n",
    "model.fit(titanic_prepared, y)"
   ],
   "metadata": {
    "collapsed": false
   }
  },
  {
   "cell_type": "code",
   "execution_count": null,
   "outputs": [],
   "source": [
    "titanic_test = load_test_data()\n",
    "titanic_test.info()"
   ],
   "metadata": {
    "collapsed": false
   }
  },
  {
   "cell_type": "code",
   "execution_count": null,
   "outputs": [],
   "source": [
    "\n",
    "titanic_test = split_cabin_feature(titanic_test)\n",
    "titanic_test = calculate_total_expenses(titanic_test)\n",
    "titanic_test = make_expenses_categories(titanic_test, bins=expense_cat_bins, labels=expense_cat_labels)\n",
    "titanic_test.shape"
   ],
   "metadata": {
    "collapsed": false
   }
  },
  {
   "cell_type": "code",
   "execution_count": null,
   "outputs": [],
   "source": [
    "titanic_test_prepared = preprocessing.fit_transform(titanic_test)\n",
    "titanic_test_prepared.shape"
   ],
   "metadata": {
    "collapsed": false
   }
  },
  {
   "cell_type": "code",
   "execution_count": null,
   "outputs": [],
   "source": [
    "predictions = model.predict(titanic_test_prepared)"
   ],
   "metadata": {
    "collapsed": false
   }
  },
  {
   "cell_type": "code",
   "execution_count": null,
   "outputs": [],
   "source": [
    "output = pd.DataFrame({'PassengerId': titanic_test[\"PassengerId\"], 'Transported': predictions})\n",
    "output.to_csv('submission.csv', index=False)"
   ],
   "metadata": {
    "collapsed": false
   }
  }
 ],
 "metadata": {
  "kernelspec": {
   "display_name": "Python 3",
   "language": "python",
   "name": "python3"
  },
  "language_info": {
   "codemirror_mode": {
    "name": "ipython",
    "version": 2
   },
   "file_extension": ".py",
   "mimetype": "text/x-python",
   "name": "python",
   "nbconvert_exporter": "python",
   "pygments_lexer": "ipython2",
   "version": "2.7.6"
  }
 },
 "nbformat": 4,
 "nbformat_minor": 0
}
